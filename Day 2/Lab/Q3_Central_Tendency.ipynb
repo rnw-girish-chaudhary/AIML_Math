{
 "cells": [
  {
   "cell_type": "code",
   "execution_count": 1,
   "id": "7af5618a-8e1d-41fa-a589-e642215bd5da",
   "metadata": {},
   "outputs": [],
   "source": [
    "\"\"\"\n",
    "Q3: Compute mean, median, mode with pandas and NumPy, then draw a bar chart.\n",
    "\"\"\"\n",
    "\n",
    "import pandas as pd\n",
    "import numpy as np\n",
    "import matplotlib.pyplot as plt  # plotting library"
   ]
  },
  {
   "cell_type": "code",
   "execution_count": 2,
   "id": "c69db91f-0073-4568-99e9-dafcc0df1a55",
   "metadata": {},
   "outputs": [],
   "source": [
    "# Create a small dataset (same structure used earlier to keep things consistent)\n",
    "df = pd.DataFrame({\n",
    "    \"score\": [70, 72, 68, 65, 90, 85, 88, 92, 60, 75]\n",
    "})"
   ]
  },
  {
   "cell_type": "code",
   "execution_count": 3,
   "id": "65181d27-5cbb-46d9-917f-ce107885e2d1",
   "metadata": {},
   "outputs": [],
   "source": [
    "# ----------------------------------------\n",
    "# Mean\n",
    "# ----------------------------------------\n",
    "# pandas Series.mean(skipna=True) → mean; skipna=True ignores NaN by default\n",
    "mean_pandas = df[\"score\"].mean()          # pandas mean\n",
    "# numpy.mean(a) → mean of array-like; dtype inferred; NaNs will propagate\n",
    "mean_numpy  = np.mean(df[\"score\"].values) # convert to NumPy array with .values"
   ]
  },
  {
   "cell_type": "code",
   "execution_count": 4,
   "id": "38fd6735-6de7-49de-b6ee-183ccb1f254c",
   "metadata": {},
   "outputs": [],
   "source": [
    "# ----------------------------------------\n",
    "# Median\n",
    "# ----------------------------------------\n",
    "# pandas Series.median(skipna=True) → median\n",
    "median_pandas = df[\"score\"].median()\n",
    "# numpy.median(a) → median of array-like\n",
    "median_numpy  = np.median(df[\"score\"].values)"
   ]
  },
  {
   "cell_type": "code",
   "execution_count": 5,
   "id": "5f8bbce1-a156-49a5-bf4a-c9c8d9a4710b",
   "metadata": {},
   "outputs": [],
   "source": [
    "# ----------------------------------------\n",
    "# Mode\n",
    "# ----------------------------------------\n",
    "# pandas Series.mode(dropna=True) → returns a Series (can be multiple modes)\n",
    "modes = df[\"score\"].mode()  # might return >1 value if there are ties\n",
    "mode_value = modes.iloc[0]  # take the first if multiple modes exist"
   ]
  },
  {
   "cell_type": "code",
   "execution_count": 6,
   "id": "9d329fbc-94ae-4e60-a3bc-3a6120c8a5e6",
   "metadata": {},
   "outputs": [
    {
     "name": "stdout",
     "output_type": "stream",
     "text": [
      "Mean (pandas): 76.50 | Mean (NumPy): 76.50\n",
      "Median (pandas): 73.50 | Median (NumPy): 73.50\n",
      "Mode (pandas): 60.00\n"
     ]
    }
   ],
   "source": [
    "# Display numeric results\n",
    "print(f\"Mean (pandas): {mean_pandas:.2f} | Mean (NumPy): {mean_numpy:.2f}\")\n",
    "print(f\"Median (pandas): {median_pandas:.2f} | Median (NumPy): {median_numpy:.2f}\")\n",
    "print(f\"Mode (pandas): {mode_value:.2f}\")"
   ]
  },
  {
   "cell_type": "code",
   "execution_count": 7,
   "id": "874f37c0-9259-46c2-bdf0-95ce22190d68",
   "metadata": {},
   "outputs": [
    {
     "data": {
      "image/png": "[encoded data removed]",
      "text/plain": [
       "<Figure size 600x400 with 1 Axes>"
      ]
     },
     "metadata": {},
     "output_type": "display_data"
    }
   ],
   "source": [
    "# ----------------------------------------\n",
    "# Bar chart comparing mean, median, mode\n",
    "# ----------------------------------------\n",
    "# plt.bar(x, height) draws a vertical bar chart\n",
    "labels = [\"Mean\", \"Median\", \"Mode\"]       # x-axis tick labels\n",
    "values = [mean_pandas, median_pandas, mode_value]  # bar heights\n",
    "\n",
    "plt.figure(figsize=(6,4))                 # figsize=(width, height) in inches\n",
    "plt.bar(labels, values)                   # basic bar chart\n",
    "plt.title(\"Mean vs Median vs Mode\")       # chart title\n",
    "plt.ylabel(\"Score\")                       # y-axis label\n",
    "plt.ylim(0, 100)                          # y-axis range so the scale is consistent\n",
    "plt.show()                                # render the plot"
   ]
  },
  {
   "cell_type": "code",
   "execution_count": null,
   "id": "b0a7e7e7-c2ee-4b7f-8531-ed6b07824885",
   "metadata": {},
   "outputs": [],
   "source": []
  }
 ],
 "metadata": {
  "kernelspec": {
   "display_name": "Python 3 (ipykernel)",
   "language": "python",
   "name": "python3"
  },
  "language_info": {
   "codemirror_mode": {
    "name": "ipython",
    "version": 3
   },
   "file_extension": ".py",
   "mimetype": "text/x-python",
   "name": "python",
   "nbconvert_exporter": "python",
   "pygments_lexer": "ipython3",
   "version": "3.13.2"
  }
 },
 "nbformat": 4,
 "nbformat_minor": 5
}
