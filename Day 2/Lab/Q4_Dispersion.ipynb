{
 "cells": [
  {
   "cell_type": "code",
   "execution_count": 1,
   "id": "13c22c69-d9cd-44b3-87ae-f9dfcad8c21d",
   "metadata": {},
   "outputs": [],
   "source": [
    "\"\"\"\n",
    "Q4: Range, variance, standard deviation, and a boxplot to visualize dispersion.\n",
    "Also shows pandas vs NumPy functions (with ddof explained).\n",
    "\"\"\"\n",
    "\n",
    "import pandas as pd\n",
    "import numpy as np\n",
    "import matplotlib.pyplot as plt"
   ]
  },
  {
   "cell_type": "code",
   "execution_count": 2,
   "id": "cb2db5be-bd33-425d-b8e4-03348b356f5b",
   "metadata": {},
   "outputs": [],
   "source": [
    "# Create a small dataset\n",
    "df = pd.DataFrame({\n",
    "    \"score\": [70, 72, 68, 65, 90, 85, 88, 92, 60, 75]\n",
    "})"
   ]
  },
  {
   "cell_type": "code",
   "execution_count": 3,
   "id": "0559f27f-d283-44a3-acc2-eccdaaedc5bf",
   "metadata": {},
   "outputs": [
    {
     "name": "stdout",
     "output_type": "stream",
     "text": [
      "Range (max - min): 32\n"
     ]
    }
   ],
   "source": [
    "# ----------------------------------------\n",
    "# Range = max - min\n",
    "# ----------------------------------------\n",
    "col = df[\"score\"]                           # pick the numeric column\n",
    "col_min = col.min()                         # smallest value\n",
    "col_max = col.max()                         # largest value\n",
    "data_range = col_max - col_min              # difference\n",
    "print(f\"Range (max - min): {data_range}\")"
   ]
  },
  {
   "cell_type": "code",
   "execution_count": 4,
   "id": "9b5b210c-d89c-4337-8b01-b933447e6268",
   "metadata": {},
   "outputs": [
    {
     "name": "stdout",
     "output_type": "stream",
     "text": [
      "Variance (pandas): 129.83 | Variance (NumPy, ddof=1): 129.83\n"
     ]
    }
   ],
   "source": [
    "# ----------------------------------------\n",
    "# Variance\n",
    "# ----------------------------------------\n",
    "# pandas Series.var(ddof=1 by default) → sample variance\n",
    "# ddof = delta degrees of freedom; sample variance uses n-1 → ddof=1\n",
    "var_pandas = col.var()                      # same as col.var(ddof=1)\n",
    "# NumPy variance; default ddof=0 (population). Use ddof=1 for sample variance.\n",
    "var_numpy  = np.var(col.values, ddof=1)     # ddof=1 → sample variance\n",
    "print(f\"Variance (pandas): {var_pandas:.2f} | Variance (NumPy, ddof=1): {var_numpy:.2f}\")"
   ]
  },
  {
   "cell_type": "code",
   "execution_count": 5,
   "id": "ec4af6ca-b501-43fb-a7cc-01e962bbed3c",
   "metadata": {},
   "outputs": [
    {
     "name": "stdout",
     "output_type": "stream",
     "text": [
      "Std Dev (pandas): 11.39 | Std Dev (NumPy, ddof=1): 11.39\n"
     ]
    }
   ],
   "source": [
    "# ----------------------------------------\n",
    "# Standard Deviation\n",
    "# ----------------------------------------\n",
    "# pandas Series.std(ddof=1 by default) → sample standard deviation\n",
    "std_pandas = col.std()                      # same as col.std(ddof=1)\n",
    "# NumPy std; default ddof=0 (population). Use ddof=1 for sample std.\n",
    "std_numpy  = np.std(col.values, ddof=1)     # ddof=1 → sample std\n",
    "print(f\"Std Dev (pandas): {std_pandas:.2f} | Std Dev (NumPy, ddof=1): {std_numpy:.2f}\")"
   ]
  },
  {
   "cell_type": "code",
   "execution_count": 7,
   "id": "1d3d01bf-7de7-475d-8d4d-df08ab0ec973",
   "metadata": {},
   "outputs": [
    {
     "data": {
      "image/png": "[encoded data removed]",
      "text/plain": [
       "<Figure size 500x400 with 1 Axes>"
      ]
     },
     "metadata": {},
     "output_type": "display_data"
    }
   ],
   "source": [
    "# ----------------------------------------\n",
    "# Boxplot (visual dispersion)\n",
    "# ----------------------------------------\n",
    "# plt.boxplot(x, labels=..., patch_artist=True) draws a box-and-whisker plot\n",
    "# - x: data or list of arrays\n",
    "# - labels: list of category names for each box\n",
    "# - patch_artist=True fills the boxes with color\n",
    "plt.figure(figsize=(5,4))                   # set figure size\n",
    "plt.boxplot([col], tick_labels=[\"score\"], patch_artist=True)\n",
    "plt.title(\"Boxplot of Scores (Dispersion)\") # chart title\n",
    "plt.ylabel(\"Score\")                          # y-axis label\n",
    "plt.show()"
   ]
  },
  {
   "cell_type": "code",
   "execution_count": 8,
   "id": "bea48c78-1f43-4859-bfd5-558ee2382482",
   "metadata": {},
   "outputs": [
    {
     "name": "stdout",
     "output_type": "stream",
     "text": [
      "Q1=68.50, Median=73.50, Q3=87.25, IQR=18.75\n",
      "Boxplot reading tips:\n",
      " - Taller box / longer whiskers → more dispersion (higher variance/SD).\n",
      " - Points beyond whiskers (if any) → potential outliers.\n"
     ]
    }
   ],
   "source": [
    "# Interpretation helper (printed text)\n",
    "# IQR (Interquartile Range) = Q3 - Q1; measures middle spread\n",
    "q1 = col.quantile(0.25)                     # 25th percentile\n",
    "q3 = col.quantile(0.75)                     # 75th percentile\n",
    "iqr = q3 - q1                               # interquartile range\n",
    "print(f\"Q1={q1:.2f}, Median={col.median():.2f}, Q3={q3:.2f}, IQR={iqr:.2f}\")\n",
    "print(\"Boxplot reading tips:\")\n",
    "print(\" - Taller box / longer whiskers → more dispersion (higher variance/SD).\")\n",
    "print(\" - Points beyond whiskers (if any) → potential outliers.\")"
   ]
  },
  {
   "cell_type": "code",
   "execution_count": null,
   "id": "ff320466-00e8-4932-b2dc-967626973241",
   "metadata": {},
   "outputs": [],
   "source": []
  }
 ],
 "metadata": {
  "kernelspec": {
   "display_name": "Python 3 (ipykernel)",
   "language": "python",
   "name": "python3"
  },
  "language_info": {
   "codemirror_mode": {
    "name": "ipython",
    "version": 3
   },
   "file_extension": ".py",
   "mimetype": "text/x-python",
   "name": "python",
   "nbconvert_exporter": "python",
   "pygments_lexer": "ipython3",
   "version": "3.13.2"
  }
 },
 "nbformat": 4,
 "nbformat_minor": 5
}
