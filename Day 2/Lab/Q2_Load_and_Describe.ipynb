{
 "cells": [
  {
   "cell_type": "code",
   "execution_count": 3,
   "id": "a5a8494b-da98-4042-8bab-c3590095a828",
   "metadata": {},
   "outputs": [],
   "source": [
    "\"\"\"\n",
    "Q2: Load/create a dataset, run .describe(), and explain the outputs.\n",
    "This script is self-contained: it creates a small CSV, loads it, and describes it.\n",
    "\"\"\"\n",
    "\n",
    "# Import pandas for data handling and NumPy for numeric utilities\n",
    "import pandas as pd  # pd is the conventional alias for pandas\n",
    "import numpy as np   # np is the conventional alias for NumPy"
   ]
  },
  {
   "cell_type": "code",
   "execution_count": 4,
   "id": "2d8f9454-c267-4248-8952-58858a475d72",
   "metadata": {},
   "outputs": [],
   "source": [
    "# ---------------------------\n",
    "# 1) Create a small sample dataset (so the code works without external files)\n",
    "# ---------------------------\n",
    "# pd.DataFrame(data, columns=...) creates a table-like object from a dict/list\n",
    "df = pd.DataFrame(\n",
    "    data={  # 'data' is a dict where keys become column names\n",
    "        \"age\":    [22, 25, 25, 29, 30, 31, 22, 27, 29, 26],   # numeric column\n",
    "        \"score\":  [70, 72, 68, 65, 90, 85, 88, 92, 60, 75],   # numeric column\n",
    "        \"dept\":   [\"A\",\"B\",\"B\",\"A\",\"C\",\"C\",\"A\",\"B\",\"C\",\"A\"],  # categorical column\n",
    "    }\n",
    "    # 'columns' is optional here because dict keys are used as column names\n",
    ")"
   ]
  },
  {
   "cell_type": "code",
   "execution_count": 6,
   "id": "45c2a7c8-9c69-4fe6-b754-e3283758293e",
   "metadata": {},
   "outputs": [],
   "source": [
    "# ---------------------------\n",
    "# 2) (Optional) Save to CSV and load back to demonstrate loading\n",
    "# ---------------------------\n",
    "csv_path = \"sample_students.csv\"   # Path where CSV will be written\n",
    "df.to_csv(csv_path, index=False)   # index=False → do not write row indices as a CSV column\n",
    "\n",
    "# pd.read_csv(filepath, **kwargs) reads a CSV file into a DataFrame\n",
    "df_loaded = pd.read_csv(csv_path)  # default separator is ',', header inferred from first row"
   ]
  },
  {
   "cell_type": "code",
   "execution_count": 7,
   "id": "e5028a97-3e8e-46c9-9fa2-614ed12b6a45",
   "metadata": {},
   "outputs": [
    {
     "name": "stdout",
     "output_type": "stream",
     "text": [
      "Numeric describe():\n",
      "              age      score\n",
      "count  10.000000  10.000000\n",
      "mean   26.600000  76.500000\n",
      "std     3.169297  11.394443\n",
      "min    22.000000  60.000000\n",
      "25%    25.000000  68.500000\n",
      "50%    26.500000  73.500000\n",
      "75%    29.000000  87.250000\n",
      "max    31.000000  92.000000 \n",
      "\n",
      "Describe(include='all'):\n",
      "               age      score dept\n",
      "count   10.000000  10.000000   10\n",
      "unique        NaN        NaN    3\n",
      "top           NaN        NaN    A\n",
      "freq          NaN        NaN    4\n",
      "mean    26.600000  76.500000  NaN\n",
      "std      3.169297  11.394443  NaN\n",
      "min     22.000000  60.000000  NaN\n",
      "25%     25.000000  68.500000  NaN\n",
      "50%     26.500000  73.500000  NaN\n",
      "75%     29.000000  87.250000  NaN\n",
      "max     31.000000  92.000000  NaN \n",
      "\n"
     ]
    }
   ],
   "source": [
    "# ---------------------------\n",
    "# 3) Use .describe() to get numeric summary statistics\n",
    "# ---------------------------\n",
    "# DataFrame.describe(include=None) by default summarizes numeric columns:\n",
    "# returns count, mean, std, min, 25%, 50% (median), 75%, max\n",
    "summary_numeric = df_loaded.describe()  # only numeric columns summarized by default\n",
    "print(\"Numeric describe():\\n\", summary_numeric, \"\\n\")\n",
    "\n",
    "# If you want to see *all* columns (including categorical), use include='all'\n",
    "summary_all = df_loaded.describe(include='all')  # include='all' → attempts summary for all types\n",
    "print(\"Describe(include='all'):\\n\", summary_all, \"\\n\")"
   ]
  },
  {
   "cell_type": "code",
   "execution_count": 8,
   "id": "a87a37e2-1a45-4c0f-bcc7-e06cf9d0a7ee",
   "metadata": {},
   "outputs": [
    {
     "name": "stdout",
     "output_type": "stream",
     "text": [
      "Field meanings for numeric describe():\n",
      " - count: Number of non-missing values in the column.\n",
      " - mean: Arithmetic average (sum / count).\n",
      " - std: Standard deviation (average distance from the mean).\n",
      " - min: Smallest value.\n",
      " - 25%: First quartile (Q1) — 25% of values fall below this.\n",
      " - 50%: Median (Q2) — 50% of values fall below this.\n",
      " - 75%: Third quartile (Q3) — 75% of values fall below this.\n",
      " - max: Largest value.\n"
     ]
    }
   ],
   "source": [
    "# ---------------------------\n",
    "# 4) Explain the fields returned by .describe() for numeric columns\n",
    "# ---------------------------\n",
    "explanations = {\n",
    "    \"count\": \"Number of non-missing values in the column.\",\n",
    "    \"mean\":  \"Arithmetic average (sum / count).\",\n",
    "    \"std\":   \"Standard deviation (average distance from the mean).\",\n",
    "    \"min\":   \"Smallest value.\",\n",
    "    \"25%\":   \"First quartile (Q1) — 25% of values fall below this.\",\n",
    "    \"50%\":   \"Median (Q2) — 50% of values fall below this.\",\n",
    "    \"75%\":   \"Third quartile (Q3) — 75% of values fall below this.\",\n",
    "    \"max\":   \"Largest value.\",\n",
    "}\n",
    "print(\"Field meanings for numeric describe():\")\n",
    "for k, v in explanations.items():\n",
    "    print(f\" - {k}: {v}\")"
   ]
  },
  {
   "cell_type": "code",
   "execution_count": null,
   "id": "e9905d17-5400-4e23-b08c-aae59ab76f57",
   "metadata": {},
   "outputs": [],
   "source": []
  }
 ],
 "metadata": {
  "kernelspec": {
   "display_name": "Python 3 (ipykernel)",
   "language": "python",
   "name": "python3"
  },
  "language_info": {
   "codemirror_mode": {
    "name": "ipython",
    "version": 3
   },
   "file_extension": ".py",
   "mimetype": "text/x-python",
   "name": "python",
   "nbconvert_exporter": "python",
   "pygments_lexer": "ipython3",
   "version": "3.13.2"
  }
 },
 "nbformat": 4,
 "nbformat_minor": 5
}
