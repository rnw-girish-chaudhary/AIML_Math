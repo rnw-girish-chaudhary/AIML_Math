{
 "cells": [
  {
   "cell_type": "code",
   "execution_count": 1,
   "id": "fca45dfc-6717-4b3c-ae52-e75b839616f3",
   "metadata": {},
   "outputs": [],
   "source": [
    "import numpy as np # numerical ops\n",
    "import pandas as pd # optional: for a small summary table"
   ]
  },
  {
   "cell_type": "code",
   "execution_count": 2,
   "id": "8d1d6b51-0f7b-4cff-a92a-f5eb8dee695d",
   "metadata": {},
   "outputs": [
    {
     "name": "stdout",
     "output_type": "stream",
     "text": [
      "Population size: 1000\n"
     ]
    }
   ],
   "source": [
    "# ------------------ Static population of 1,000 scores ------------------\n",
    "# Choose 20 realistic exam scores and repeat them 50 times (20*50 = 1000). Deterministic.\n",
    "base_scores = [72, 85, 91, 67, 88, 94, 76, 83, 95, 69,\n",
    "81, 77, 90, 86, 73, 92, 64, 79, 87, 84]\n",
    "\n",
    "# np.tile(array_like, reps) repeats the sequence.\n",
    "# - array_like = base_scores (original list)\n",
    "# - reps = 50 (number of repetitions)\n",
    "population = np.tile(base_scores, 50) # length will be 1000\n",
    "print(f\"Population size: {len(population)}\") # sanity check -> 1000"
   ]
  },
  {
   "cell_type": "code",
   "execution_count": 3,
   "id": "6232e99d-98e0-4f62-8aa8-f5e50544c2c3",
   "metadata": {},
   "outputs": [
    {
     "name": "stdout",
     "output_type": "stream",
     "text": [
      "Sample size: 100\n"
     ]
    }
   ],
   "source": [
    "# ------------------ Deterministic sample of size 100 ------------------\n",
    "# Take every 10th element using slicing with a step:\n",
    "# - start=0 (begin at first element)\n",
    "# - stop omitted (go to end)\n",
    "# - step=10 (pick every 10th -> 1000 / 10 = 100 elements)\n",
    "sample = population[0:None:10]\n",
    "print(f\"Sample size: {len(sample)}\") # sanity check -> 100"
   ]
  },
  {
   "cell_type": "code",
   "execution_count": 4,
   "id": "f5555588-39fd-4cc3-bac3-5eb27009c78c",
   "metadata": {},
   "outputs": [
    {
     "name": "stdout",
     "output_type": "stream",
     "text": [
      "81.65\n",
      "76.5\n"
     ]
    }
   ],
   "source": [
    "# ------------------ Means ------------------\n",
    "# np.mean(array) computes arithmetic mean (average)\n",
    "pop_mean = np.mean(population) # population mean\n",
    "samp_mean = np.mean(sample) # sample mean\n",
    "\n",
    "print(pop_mean)\n",
    "print(samp_mean)"
   ]
  },
  {
   "cell_type": "code",
   "execution_count": 5,
   "id": "774e2ffe-ac61-49e1-8e9c-4196f53d9371",
   "metadata": {},
   "outputs": [
    {
     "name": "stdout",
     "output_type": "stream",
     "text": [
      "8.990411558988832\n",
      "4.522670168666454\n"
     ]
    }
   ],
   "source": [
    "# ------------------ Standard deviations ------------------\n",
    "# np.std(array, ddof=...) computes standard deviation.\n",
    "# - ddof=0 => population formula (divide by N).\n",
    "# - ddof=1 => sample formula (unbiased estimator; divide by N-1).\n",
    "pop_std = np.std(population, ddof=0) # population SD\n",
    "samp_std = np.std(sample, ddof=1) # sample SD (unbiased)\n",
    "\n",
    "print(pop_std)\n",
    "print(samp_std)"
   ]
  },
  {
   "cell_type": "code",
   "execution_count": 6,
   "id": "715e1182-e576-4573-937b-ffa543f53589",
   "metadata": {},
   "outputs": [
    {
     "name": "stdout",
     "output_type": "stream",
     "text": [
      "Population mean: 81.65\n",
      "Population std : 8.99\n",
      "Sample mean : 76.50\n",
      "Sample std : 4.52\n"
     ]
    }
   ],
   "source": [
    "# ------------------ Print results ------------------\n",
    "print(f\"Population mean: {pop_mean:.2f}\")\n",
    "print(f\"Population std : {pop_std:.2f}\")\n",
    "print(f\"Sample mean : {samp_mean:.2f}\")\n",
    "print(f\"Sample std : {samp_std:.2f}\")"
   ]
  },
  {
   "cell_type": "code",
   "execution_count": 7,
   "id": "53cae993-03ee-4bbf-9675-147726d0b00c",
   "metadata": {},
   "outputs": [
    {
     "name": "stdout",
     "output_type": "stream",
     "text": [
      "\n",
      "Summary table:\n",
      "      Dataset  Size   Mean  StdDev\n",
      "0  Population  1000  81.65    8.99\n",
      "1      Sample   100  76.50    4.52\n"
     ]
    }
   ],
   "source": [
    "# ------------------ Optional: tidy table ------------------\n",
    "summary = pd.DataFrame({\n",
    "\"Dataset\": [\"Population\", \"Sample\"],\n",
    "\"Size\": [len(population), len(sample)],\n",
    "\"Mean\": [round(pop_mean, 2), round(samp_mean, 2)],\n",
    "\"StdDev\": [round(pop_std, 2), round(samp_std, 2)]\n",
    "})\n",
    "print(\"\\nSummary table:\")\n",
    "print(summary)"
   ]
  },
  {
   "cell_type": "code",
   "execution_count": 9,
   "id": "fba6a96c-05d6-4bd2-a3d7-7e2d624fed71",
   "metadata": {},
   "outputs": [
    {
     "name": "stdout",
     "output_type": "stream",
     "text": [
      "\n",
      "Explanation:\n",
      "- Population uses every score (N=1000); population SD uses ddof=0 (divide by N).\n",
      "- Sample uses a subset (n=100); sample SD uses ddof=1 (divide by n-1) for an unbiased estimate.\n"
     ]
    }
   ],
   "source": [
    "# ------------------ Explanation (printed) ------------------\n",
    "print(\"\\nExplanation:\")\n",
    "print(\"- Population uses every score (N=1000); population SD uses ddof=0 (divide by N).\")\n",
    "print(\"- Sample uses a subset (n=100); sample SD uses ddof=1 (divide by n-1) for an unbiased estimate.\")"
   ]
  },
  {
   "cell_type": "code",
   "execution_count": null,
   "id": "3a8700d7-f734-4a47-acef-25b644a98154",
   "metadata": {},
   "outputs": [],
   "source": []
  }
 ],
 "metadata": {
  "kernelspec": {
   "display_name": "Python [conda env:base] *",
   "language": "python",
   "name": "conda-base-py"
  },
  "language_info": {
   "codemirror_mode": {
    "name": "ipython",
    "version": 3
   },
   "file_extension": ".py",
   "mimetype": "text/x-python",
   "name": "python",
   "nbconvert_exporter": "python",
   "pygments_lexer": "ipython3",
   "version": "3.13.5"
  }
 },
 "nbformat": 4,
 "nbformat_minor": 5
}
