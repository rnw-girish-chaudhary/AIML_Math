{
 "cells": [
  {
   "cell_type": "code",
   "execution_count": 1,
   "id": "51e10f93-dfd4-435e-bf2e-70fbe0ae4fdc",
   "metadata": {},
   "outputs": [],
   "source": [
    "# ------------- Tiny static dataset -------------\n",
    "# A list of dictionaries = small \"employee sales\" table; STATIC, non-random.\n",
    "employee_sales = [\n",
    "{\"Name\": \"Aisha Khan\", \"Age\": 29, \"Region\": \"North\", \"MonthlySales\": 38000},\n",
    "{\"Name\": \"Ben Carter\", \"Age\": 34, \"Region\": \"South\", \"MonthlySales\": 42500},\n",
    "{\"Name\": \"Chao Liu\", \"Age\": 26, \"Region\": \"East\", \"MonthlySales\": 33200},\n",
    "{\"Name\": \"Diana Lopez\", \"Age\": 41, \"Region\": \"West\", \"MonthlySales\": 57000},\n",
    "{\"Name\": \"Evan Singh\", \"Age\": 31, \"Region\": \"North\", \"MonthlySales\": 45800},\n",
    "{\"Name\": \"Farah Noor\", \"Age\": 28, \"Region\": \"South\", \"MonthlySales\": 39900},\n",
    "]"
   ]
  },
  {
   "cell_type": "code",
   "execution_count": 2,
   "id": "af3954c6-278e-49ca-90c0-d8d5ee01f5e4",
   "metadata": {},
   "outputs": [],
   "source": [
    "# We use pandas only to print a nice table.\n",
    "import pandas as pd"
   ]
  },
  {
   "cell_type": "code",
   "execution_count": 3,
   "id": "1cb56953-384b-4b0c-8ff5-5b93917dee63",
   "metadata": {},
   "outputs": [
    {
     "name": "stdout",
     "output_type": "stream",
     "text": [
      "          Name  Age Region  MonthlySales\n",
      "0   Aisha Khan   29  North         38000\n",
      "1   Ben Carter   34  South         42500\n",
      "2     Chao Liu   26   East         33200\n",
      "3  Diana Lopez   41   West         57000\n",
      "4   Evan Singh   31  North         45800\n",
      "5   Farah Noor   28  South         39900\n"
     ]
    }
   ],
   "source": [
    "# DataFrame(...) converts the list of dicts into a table\n",
    "df = pd.DataFrame(employee_sales)\n",
    "print(df)"
   ]
  },
  {
   "cell_type": "code",
   "execution_count": null,
   "id": "7c6bfbb6-4ff5-4bf8-b392-96759db21df0",
   "metadata": {},
   "outputs": [],
   "source": []
  }
 ],
 "metadata": {
  "kernelspec": {
   "display_name": "Python [conda env:base] *",
   "language": "python",
   "name": "conda-base-py"
  },
  "language_info": {
   "codemirror_mode": {
    "name": "ipython",
    "version": 3
   },
   "file_extension": ".py",
   "mimetype": "text/x-python",
   "name": "python",
   "nbconvert_exporter": "python",
   "pygments_lexer": "ipython3",
   "version": "3.13.5"
  }
 },
 "nbformat": 4,
 "nbformat_minor": 5
}
