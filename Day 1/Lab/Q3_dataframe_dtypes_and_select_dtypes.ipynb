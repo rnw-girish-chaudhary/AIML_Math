{
 "cells": [
  {
   "cell_type": "code",
   "execution_count": 2,
   "id": "104b2398-c0c2-49ec-b642-4367376215a2",
   "metadata": {},
   "outputs": [],
   "source": [
    "import pandas as pd"
   ]
  },
  {
   "cell_type": "code",
   "execution_count": 3,
   "id": "beff3860-d423-444f-b705-2ec655e8102f",
   "metadata": {},
   "outputs": [],
   "source": [
    "# ---------------------------------------\n",
    "# Step 1: Import pandas and create a DataFrame\n",
    "# ---------------------------------------\n",
    "employees = pd.DataFrame([\n",
    "{\"Name\": \"Aisha Khan\", \"Age\": 29, \"Department\": \"Sales\", \"Salary\": 72000},\n",
    "{\"Name\": \"Ben Carter\", \"Age\": 34, \"Department\": \"Marketing\", \"Salary\": 68000},\n",
    "{\"Name\": \"Chao Liu\", \"Age\": 26, \"Department\": \"Sales\", \"Salary\": 61000},\n",
    "{\"Name\": \"Diana Lopez\", \"Age\": 41, \"Department\": \"Operations\", \"Salary\": 88000},\n",
    "{\"Name\": \"Evan Singh\", \"Age\": 31, \"Department\": \"Sales\", \"Salary\": 75000},\n",
    "{\"Name\": \"Farah Noor\", \"Age\": 28, \"Department\": \"Marketing\", \"Salary\": 64000},\n",
    "])"
   ]
  },
  {
   "cell_type": "code",
   "execution_count": 4,
   "id": "c8614687-0f5d-473f-8a63-69d1d9452a9f",
   "metadata": {},
   "outputs": [
    {
     "name": "stdout",
     "output_type": "stream",
     "text": [
      "          Name  Age  Department  Salary\n",
      "0   Aisha Khan   29       Sales   72000\n",
      "1   Ben Carter   34   Marketing   68000\n",
      "2     Chao Liu   26       Sales   61000\n",
      "3  Diana Lopez   41  Operations   88000\n",
      "4   Evan Singh   31       Sales   75000\n"
     ]
    }
   ],
   "source": [
    "# Show the first rows to verify the table\n",
    "print(employees.head()) # .head() shows the top 5 rows by default; no arguments used here"
   ]
  },
  {
   "cell_type": "code",
   "execution_count": 5,
   "id": "ad717a49-a81c-4ac7-994c-5e7549c875db",
   "metadata": {},
   "outputs": [
    {
     "name": "stdout",
     "output_type": "stream",
     "text": [
      "Name          object\n",
      "Age            int64\n",
      "Department    object\n",
      "Salary         int64\n",
      "dtype: object\n"
     ]
    }
   ],
   "source": [
    "# ---------------------------------------\n",
    "# Step 2: Inspect data types (dtypes)\n",
    "# ---------------------------------------\n",
    "print(employees.dtypes)"
   ]
  },
  {
   "cell_type": "code",
   "execution_count": 6,
   "id": "77ca88b6-6186-485b-9ba9-2747d93c6875",
   "metadata": {},
   "outputs": [
    {
     "name": "stdout",
     "output_type": "stream",
     "text": [
      "   Age  Salary\n",
      "0   29   72000\n",
      "1   34   68000\n",
      "2   26   61000\n",
      "3   41   88000\n",
      "4   31   75000\n",
      "5   28   64000\n",
      "['Age', 'Salary']\n"
     ]
    }
   ],
   "source": [
    "# ---------------------------------------\n",
    "# Step 3: Filter by dtype using select_dtypes\n",
    "# ---------------------------------------\n",
    "# Select only numeric columns:\n",
    "numeric_cols = employees.select_dtypes(include=['number'])\n",
    "#numeric_cols = employees.select_dtypes(include=['int64', 'float64'])\n",
    "print(numeric_cols)\n",
    "print(list(numeric_cols.columns))"
   ]
  },
  {
   "cell_type": "code",
   "execution_count": 7,
   "id": "a77b8f0e-8f0b-4a36-9188-18a802505c76",
   "metadata": {},
   "outputs": [
    {
     "name": "stdout",
     "output_type": "stream",
     "text": [
      "          Name  Department\n",
      "0   Aisha Khan       Sales\n",
      "1   Ben Carter   Marketing\n",
      "2     Chao Liu       Sales\n",
      "3  Diana Lopez  Operations\n",
      "4   Evan Singh       Sales\n",
      "5   Farah Noor   Marketing\n",
      "['Name', 'Department']\n"
     ]
    }
   ],
   "source": [
    "# Select only categorical (non-numeric) columns:\n",
    "categorical_cols = employees.select_dtypes(exclude=['number'])\n",
    "#categorical_cols = employees.select_dtypes(include=['object'])\n",
    "print(categorical_cols)\n",
    "print(list(categorical_cols.columns))"
   ]
  },
  {
   "cell_type": "code",
   "execution_count": null,
   "id": "aa5ef4ff-8159-49a1-9fc8-ea0288b4e012",
   "metadata": {},
   "outputs": [],
   "source": []
  }
 ],
 "metadata": {
  "kernelspec": {
   "display_name": "Python [conda env:base] *",
   "language": "python",
   "name": "conda-base-py"
  },
  "language_info": {
   "codemirror_mode": {
    "name": "ipython",
    "version": 3
   },
   "file_extension": ".py",
   "mimetype": "text/x-python",
   "name": "python",
   "nbconvert_exporter": "python",
   "pygments_lexer": "ipython3",
   "version": "3.13.5"
  }
 },
 "nbformat": 4,
 "nbformat_minor": 5
}
